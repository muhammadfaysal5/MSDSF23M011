{
 "cells": [
  {
   "cell_type": "markdown",
   "id": "4b5d5afb",
   "metadata": {},
   "source": [
    "## MUHAMMAD FAISAL HAYAT\n",
    "* Address: Street No 4 House No 10 Chungi Ammar Sidhu Lahore\n",
    "* Phone: +92 3044478822\n",
    "* Email: Faysalhayat034@gmail.com\n",
    "## EDUCATION:\n",
    " ### Masters of science  in Mathematics \n",
    "* Govt college University Lahore [ 11/04/2021 – 15/03/2023 ] \n",
    "* Address: Government College University, Lahore, Punjab 54000, 85017 Lahore (Pakistan)\n",
    " ###  MSc(CS)\n",
    " * PUCIT(Punjab university college of information and technology) university of the Punjab [ 16/09/2018 \n",
    "   – 06/07/2020 ] \n",
    " * Address: Katchery Road، Near Anarkali Bazar، Lahore, 54000, 05422 Lahore (Pakistan) \n",
    " * Website: http://www.pu.edu.pk/\n",
    " ### Bachelor in Science \n",
    "* University of the Punjab\n",
    "* Address: F7H8+HFV, Canal Rd, Quaid-i-Azam Campus, Lahore, Punjab, 54590 Lahore (Pakistan) \n",
    "* Website: http://www.pu.edu.pk\n",
    "## WORK EXPERIENCE:\n",
    "* Two year of Experince as  Frontend Software engineer at Programmer Force in Vue and react js\n",
    "* Vertex IT solution UK(Present)\n",
    "## AWARDS:\n",
    "* Academic role of Honor [ 01/01/2022 – 31/12/2022 ]\n",
    "* Student of the year 2022\n",
    "* Gold Medalist in Master of science in  Mathematics from Govt College University Lahore [ 12/04/2021 – 15/03/2023 ]\n",
    "* First position in Bachelors of science from university of the punjab\n",
    "## PROJECTS:\n",
    " ### PU Health care center \n",
    "[ 04/03/2020 – 06/06/2020 ] \n",
    "The main objective of the project is to improve the accessibility and quality of medical services to the population\n",
    "in Punjab University Lahore in order to increase the capacity and effectiveness of the primary care system for\n",
    "better territorial and social coverage for deprived from high quality health services and isolated communities\n",
    "(areas). Increasing cross-border connectivity and mobility.\n",
    "The successful implementation of the project will provide mobile medical equipment for the project partners,\n",
    "incl. supply of mobile units for mobile health services and specialized equipment for telemedicine in remote\n",
    "border areas, incl. technical and laboratory equipment. Prophylactic examinations for publicly significant diseases\n",
    "for 500 people in University are planned\n",
    "### Voice recorgnization Engine\n",
    "### Other Projects related to Field Work\n",
    "## DIGITAL SKILLS:\n",
    "* Python /Javascript / Vue JS/  react JS / programmer of c ++ / Microsoft Powerpoint / Organizational and planning skills /\n",
    "  Team-work oriented / Social Media\n",
    "\n"
   ]
  },
  {
   "cell_type": "code",
   "execution_count": null,
   "id": "95496358",
   "metadata": {},
   "outputs": [],
   "source": []
  }
 ],
 "metadata": {
  "kernelspec": {
   "display_name": "Python 3 (ipykernel)",
   "language": "python",
   "name": "python3"
  },
  "language_info": {
   "codemirror_mode": {
    "name": "ipython",
    "version": 3
   },
   "file_extension": ".py",
   "mimetype": "text/x-python",
   "name": "python",
   "nbconvert_exporter": "python",
   "pygments_lexer": "ipython3",
   "version": "3.11.5"
  }
 },
 "nbformat": 4,
 "nbformat_minor": 5
}
